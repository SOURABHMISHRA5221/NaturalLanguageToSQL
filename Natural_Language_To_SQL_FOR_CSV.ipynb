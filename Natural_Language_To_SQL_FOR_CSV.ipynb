{
  "nbformat": 4,
  "nbformat_minor": 0,
  "metadata": {
    "colab": {
      "provenance": [],
      "include_colab_link": true
    },
    "kernelspec": {
      "name": "python3",
      "display_name": "Python 3"
    },
    "language_info": {
      "name": "python"
    }
  },
  "cells": [
    {
      "cell_type": "markdown",
      "metadata": {
        "id": "view-in-github",
        "colab_type": "text"
      },
      "source": [
        "<a href=\"https://colab.research.google.com/github/SOURABHMISHRA5221/NaturalLanguageToSQL/blob/main/Natural_Language_To_SQL_FOR_CSV.ipynb\" target=\"_parent\"><img src=\"https://colab.research.google.com/assets/colab-badge.svg\" alt=\"Open In Colab\"/></a>"
      ]
    },
    {
      "cell_type": "code",
      "execution_count": 1,
      "metadata": {
        "id": "nZp9y1yry1Uu"
      },
      "outputs": [],
      "source": [
        "import sqlite3\n",
        "import pandas as pd\n",
        "import random\n",
        "\n"
      ]
    },
    {
      "cell_type": "code",
      "source": [
        "conn = sqlite3.connect('tables.db') # Connecting to the database\n",
        "cursor = conn.cursor() # Object to run queries"
      ],
      "metadata": {
        "id": "NMUtAJh50NAO"
      },
      "execution_count": 2,
      "outputs": []
    },
    {
      "cell_type": "code",
      "execution_count": 29,
      "metadata": {
        "id": "cq-Z4ghC0PLM"
      },
      "outputs": [],
      "source": [
        "urls = [\n",
        "    'https://gist.github.com/kevin336/acbb2271e66c10a5b73aacf82ca82784/raw/e38afe62e088394d61ed30884dd50a6826eee0a8/employees.csv',\n",
        "    'https://gist.github.com/kevin336/5ea0e96813aa88871c20d315b5bf445c/raw/d8fcf5c2630ba12dd8802a2cdd5480621b6a0ea6/departments.csv'\n",
        "]\n",
        "\n",
        "# Initialize an empty list to store the DataFrames\n",
        "dfs = []\n",
        "\n",
        "# Read each file and append the DataFrame to the list\n",
        "for url in urls:\n",
        "    df = pd.read_csv(url)\n",
        "    dfs.append(df)"
      ]
    },
    {
      "cell_type": "code",
      "execution_count": 30,
      "metadata": {
        "id": "8YT4c9Ep0Nu1"
      },
      "outputs": [],
      "source": [
        "create_table_queries = []\n",
        "for df in dfs:\n",
        "    # Generate a random table name\n",
        "    table_name = 'table'+str(random.randint(1, 100000))\n",
        "\n",
        "    # Create a string of column names with types\n",
        "    columns_with_types = \", \".join([f\"{col.replace(' ', '_')} TEXT\" for col in df.columns])\n",
        "\n",
        "    # Create the CREATE TABLE query\n",
        "    create_table_query = f\"CREATE TABLE IF NOT EXISTS {table_name} ({columns_with_types});\"\n",
        "    create_table_queries.append(create_table_query)\n",
        "\n",
        "    # Execute the CREATE TABLE query\n",
        "    cursor.execute(create_table_query)\n",
        "    cursor.fetchall()\n",
        "\n",
        "    # Insert data into the table\n",
        "    for index, row in df.iterrows():\n",
        "        values = \", \".join([f'\"{row_item}\"' for row_item in row])\n",
        "        insert_sql = f\"INSERT INTO {table_name} ({', '.join(df.columns.str.replace(' ', '_'))}) VALUES ({values})\"\n",
        "        cursor.execute(insert_sql)"
      ]
    },
    {
      "cell_type": "code",
      "source": [
        "prompt = \"Give me the employee name, his manager name and his department whose salary is greater than 10000\""
      ],
      "metadata": {
        "id": "G-LB64ER3WmO"
      },
      "execution_count": 31,
      "outputs": []
    },
    {
      "cell_type": "code",
      "source": [
        "import requests\n",
        "\n",
        "# Define the API endpoint URL and API key\n",
        "url = 'https://generativelanguage.googleapis.com/v1beta/models/gemini-1.5-flash-latest:generateContent'\n",
        "api_key = 'ENTER_YOUR_OWN_API_KEY'\n",
        "\n",
        "# Define the request headers and data\n",
        "headers = {'Content-Type': 'application/json'}\n",
        "data = {'contents': [{'parts': [{'text': 'Just give me the SQL query, do not write anything else like ```sql ```. My tables are '+ str(create_table_queries) + \". \" + prompt}]}]}\n",
        "\n",
        "# Set the API key in the params\n",
        "params = {'key': api_key}\n",
        "\n",
        "# Send a POST request\n",
        "response = requests.post(url, headers=headers, json=data, params=params)\n",
        "\n",
        "# Check if the request was successful\n",
        "if response.status_code == 200:\n",
        "    text = response.json()['candidates'][0]['content']['parts'][0]['text']\n",
        "    print(text)\n",
        "else:\n",
        "    print('Failed to retrieve data:', response.status_code)"
      ],
      "metadata": {
        "colab": {
          "base_uri": "https://localhost:8080/"
        },
        "id": "lzuBeTXqSgA4",
        "outputId": "e111fd0b-8da6-4e4e-b920-23d7c3776ee2"
      },
      "execution_count": 33,
      "outputs": [
        {
          "output_type": "stream",
          "name": "stdout",
          "text": [
            "SELECT e.FIRST_NAME || ' ' || e.LAST_NAME AS EmployeeName, m.FIRST_NAME || ' ' || m.LAST_NAME AS ManagerName, d.DEPARTMENT_NAME AS DepartmentName FROM table28936 e JOIN table28936 m ON e.MANAGER_ID = m.EMPLOYEE_ID JOIN table91993 d ON e.DEPARTMENT_ID = d.DEPARTMENT_ID WHERE CAST(REPLACE(e.SALARY, ',', '') AS REAL) > 10000;\n",
            "\n"
          ]
        }
      ]
    },
    {
      "cell_type": "code",
      "source": [
        "cursor.execute(text)\n",
        "results = cursor.fetchall()\n",
        "column_names = [description[0] for description in cursor.description]\n",
        "print(column_names)\n",
        "\n",
        "# Print the results\n",
        "for row in results:\n",
        "    print(row)"
      ],
      "metadata": {
        "colab": {
          "base_uri": "https://localhost:8080/"
        },
        "id": "JJrye1lUSwmT",
        "outputId": "ea8f4b42-2080-4b25-896b-c4cc1fae8bde"
      },
      "execution_count": 34,
      "outputs": [
        {
          "output_type": "stream",
          "name": "stdout",
          "text": [
            "['EmployeeName', 'ManagerName', 'DepartmentName']\n",
            "('Michael Hartstein', 'Steven King', 'Marketing')\n",
            "('Shelley Higgins', 'Neena Kochhar', 'Accounting')\n",
            "('Neena Kochhar', 'Steven King', 'Executive')\n",
            "('Lex De Haan', 'Steven King', 'Executive')\n",
            "('Nancy Greenberg', 'Neena Kochhar', 'Finance')\n",
            "('Den Raphaely', 'Steven King', 'Purchasing')\n"
          ]
        }
      ]
    }
  ]
}